{
 "cells": [
  {
   "cell_type": "code",
   "execution_count": 1,
   "id": "d7eb8913",
   "metadata": {},
   "outputs": [
    {
     "name": "stdout",
     "output_type": "stream",
     "text": [
      "no element found: line 1, column 0\n"
     ]
    }
   ],
   "source": [
    "from langchain_community.document_loaders import YoutubeLoader\n",
    "\n",
    "try:\n",
    "    loader = YoutubeLoader.from_youtube_url(\"https://www.youtube.com/watch?v=QsYGlZkevEg\", add_video_info=False)\n",
    "    docs = loader.load()\n",
    "    print(type(docs))\n",
    "    \n",
    "except Exception as e:\n",
    "    print(e)"
   ]
  },
  {
   "cell_type": "code",
   "execution_count": 2,
   "id": "5a674180",
   "metadata": {},
   "outputs": [
    {
     "name": "stdout",
     "output_type": "stream",
     "text": [
      "❌ Failed to load transcript.\n",
      "ParseError: no element found: line 1, column 0\n"
     ]
    }
   ],
   "source": [
    "from langchain_community.document_loaders import YoutubeLoader\n",
    "\n",
    "video_id = \"5MgBikgcWnY\"  # TEDx video\n",
    "docs = []\n",
    "try:\n",
    "    \n",
    "    loader = YoutubeLoader.from_youtube_url(\n",
    "        \"https://www.youtube.com/watch?v=QsYGlZkevEg\", add_video_info=False\n",
    "    )\n",
    "    docs = loader.load()\n",
    "    print(docs)\n",
    "\n",
    "except Exception as e:\n",
    "    print(\"❌ Failed to load transcript.\")\n",
    "    print(type(e).__name__ + \":\", e)\n"
   ]
  },
  {
   "cell_type": "code",
   "execution_count": 30,
   "id": "b7a61494",
   "metadata": {},
   "outputs": [
    {
     "data": {
      "text/plain": [
       "14918"
      ]
     },
     "execution_count": 30,
     "metadata": {},
     "output_type": "execute_result"
    }
   ],
   "source": [
    "len(\"\\n\".join([line[\"text\"] for line in transcript]))"
   ]
  },
  {
   "cell_type": "code",
   "execution_count": 108,
   "id": "47822ffe",
   "metadata": {},
   "outputs": [
    {
     "ename": "ParseError",
     "evalue": "no element found: line 1, column 0 (<string>)",
     "output_type": "error",
     "traceback": [
      "Traceback \u001b[1;36m(most recent call last)\u001b[0m:\n",
      "\u001b[1;36m  File \u001b[1;32mc:\\Users\\Vaibhav.Baneshi\\OneDrive - Vertisystem Global Pvt. Ltd\\Desktop\\Vaibhav\\Langchain\\venv\\lib\\xml\\etree\\ElementTree.py:1725\u001b[1;36m in \u001b[1;35mclose\u001b[1;36m\n\u001b[1;33m    self.parser.Parse(b\"\", True) # end of data\u001b[1;36m\n",
      "\u001b[1;31mExpatError\u001b[0m\u001b[1;31m:\u001b[0m no element found: line 1, column 0\n",
      "\nDuring handling of the above exception, another exception occurred:\n",
      "Traceback \u001b[1;36m(most recent call last)\u001b[0m:\n",
      "\u001b[0m  File \u001b[0;32mc:\\Users\\Vaibhav.Baneshi\\OneDrive - Vertisystem Global Pvt. Ltd\\Desktop\\Vaibhav\\Langchain\\venv\\lib\\site-packages\\IPython\\core\\interactiveshell.py:3579\u001b[0m in \u001b[0;35mrun_code\u001b[0m\n    exec(code_obj, self.user_global_ns, self.user_ns)\u001b[0m\n",
      "\u001b[0m  Cell \u001b[0;32mIn[108], line 7\u001b[0m\n    loader.load()\u001b[0m\n",
      "\u001b[0m  File \u001b[0;32mc:\\Users\\Vaibhav.Baneshi\\OneDrive - Vertisystem Global Pvt. Ltd\\Desktop\\Vaibhav\\Langchain\\venv\\lib\\site-packages\\langchain_community\\document_loaders\\youtube.py:273\u001b[0m in \u001b[0;35mload\u001b[0m\n    transcript_object = transcript.fetch()\u001b[0m\n",
      "\u001b[0m  File \u001b[0;32mc:\\Users\\Vaibhav.Baneshi\\OneDrive - Vertisystem Global Pvt. Ltd\\Desktop\\Vaibhav\\Langchain\\venv\\lib\\site-packages\\youtube_transcript_api\\_transcripts.py:134\u001b[0m in \u001b[0;35mfetch\u001b[0m\n    snippets = _TranscriptParser(preserve_formatting=preserve_formatting).parse(\u001b[0m\n",
      "\u001b[0m  File \u001b[0;32mc:\\Users\\Vaibhav.Baneshi\\OneDrive - Vertisystem Global Pvt. Ltd\\Desktop\\Vaibhav\\Langchain\\venv\\lib\\site-packages\\youtube_transcript_api\\_transcripts.py:474\u001b[0m in \u001b[0;35mparse\u001b[0m\n    for xml_element in ElementTree.fromstring(raw_data)\u001b[0m\n",
      "\u001b[0m  File \u001b[0;32mc:\\Users\\Vaibhav.Baneshi\\OneDrive - Vertisystem Global Pvt. Ltd\\Desktop\\Vaibhav\\Langchain\\venv\\lib\\site-packages\\defusedxml\\common.py:127\u001b[0m in \u001b[0;35mfromstring\u001b[0m\n    return parser.close()\u001b[0m\n",
      "\u001b[0m  File \u001b[0;32mc:\\Users\\Vaibhav.Baneshi\\OneDrive - Vertisystem Global Pvt. Ltd\\Desktop\\Vaibhav\\Langchain\\venv\\lib\\xml\\etree\\ElementTree.py:1727\u001b[0m in \u001b[0;35mclose\u001b[0m\n    self._raiseerror(v)\u001b[0m\n",
      "\u001b[1;36m  File \u001b[1;32mc:\\Users\\Vaibhav.Baneshi\\OneDrive - Vertisystem Global Pvt. Ltd\\Desktop\\Vaibhav\\Langchain\\venv\\lib\\xml\\etree\\ElementTree.py:1627\u001b[1;36m in \u001b[1;35m_raiseerror\u001b[1;36m\n\u001b[1;33m    raise err\u001b[1;36m\n",
      "\u001b[1;36m  File \u001b[1;32m<string>\u001b[1;36m\u001b[0m\n\u001b[1;31mParseError\u001b[0m\u001b[1;31m:\u001b[0m no element found: line 1, column 0\n"
     ]
    }
   ],
   "source": [
    "from langchain_community.document_loaders import YoutubeLoader\n",
    "\n",
    "loader = YoutubeLoader.from_youtube_url(\n",
    "    \"https://www.youtube.com/watch?v=QsYGlZkevEg\", add_video_info=False\n",
    ")\n",
    "\n",
    "loader.load()"
   ]
  },
  {
   "cell_type": "code",
   "execution_count": 1,
   "id": "a0b16b49",
   "metadata": {},
   "outputs": [
    {
     "name": "stdout",
     "output_type": "stream",
     "text": [
      "❌ Could not fetch transcript.\n",
      "ParseError: no element found: line 1, column 0\n"
     ]
    }
   ],
   "source": [
    "from youtube_transcript_api import YouTubeTranscriptApi\n",
    "\n",
    "video_id = \"5MgBikgcWnY\"  # Example: TEDx - How to Learn Anything\n",
    "\n",
    "try:\n",
    "    # List all available transcripts\n",
    "    transcript_list = YouTubeTranscriptApi.get_transcript(video_id)\n",
    "    print(type(transcript_list))\n",
    "    \n",
    "except Exception as e:\n",
    "    print(\"❌ Could not fetch transcript.\")\n",
    "    print(type(e).__name__ + \":\", e)\n"
   ]
  },
  {
   "cell_type": "code",
   "execution_count": 112,
   "id": "1c5ba273",
   "metadata": {},
   "outputs": [
    {
     "name": "stdout",
     "output_type": "stream",
     "text": [
      "❌ Failed to fetch transcript.\n",
      "ParseError: no element found: line 1, column 0\n"
     ]
    }
   ],
   "source": [
    "from youtube_transcript_api import YouTubeTranscriptApi\n",
    "\n",
    "def get_transcript_chunks(video_id, chunk_size=500):\n",
    "    try:\n",
    "        # Fetch transcript\n",
    "        transcript = YouTubeTranscriptApi.get_transcript(video_id)\n",
    "        \n",
    "        # Break into chunks\n",
    "        chunks = []\n",
    "        current_chunk = \"\"\n",
    "        for i, line in enumerate(transcript):\n",
    "            text = line['text']\n",
    "            # Add sentence to current chunk\n",
    "            if len(current_chunk) + len(text) + 1 <= chunk_size:\n",
    "                current_chunk += \" \" + text\n",
    "            else:\n",
    "                chunks.append(current_chunk.strip())\n",
    "                current_chunk = text\n",
    "\n",
    "        # Add last chunk\n",
    "        if current_chunk:\n",
    "            chunks.append(current_chunk.strip())\n",
    "\n",
    "        print(f\"✅ Transcript split into {len(chunks)} chunks.\")\n",
    "        return chunks\n",
    "\n",
    "    except Exception as e:\n",
    "        print(\"❌ Failed to fetch transcript.\")\n",
    "        print(type(e).__name__ + \":\", e)\n",
    "        return []\n",
    "\n",
    "# Example usage\n",
    "video_id = \"5MgBikgcWnY\"  # Replace with your video ID\n",
    "chunks = get_transcript_chunks(video_id, chunk_size=1000)\n",
    "\n",
    "# Print first 2 chunks for preview\n",
    "for i, chunk in enumerate(chunks[:2]):\n",
    "    print(f\"\\n--- Chunk {i+1} ---\\n{chunk}\\n\")\n"
   ]
  }
 ],
 "metadata": {
  "kernelspec": {
   "display_name": "Python 3",
   "language": "python",
   "name": "python3"
  },
  "language_info": {
   "codemirror_mode": {
    "name": "ipython",
    "version": 3
   },
   "file_extension": ".py",
   "mimetype": "text/x-python",
   "name": "python",
   "nbconvert_exporter": "python",
   "pygments_lexer": "ipython3",
   "version": "3.10.0"
  }
 },
 "nbformat": 4,
 "nbformat_minor": 5
}
